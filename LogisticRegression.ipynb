{
 "cells": [
  {
   "cell_type": "code",
   "execution_count": 8,
   "metadata": {},
   "outputs": [],
   "source": [
    "import matplotlib.pyplot as plt\n",
    "import numpy as np\n",
    "from sklearn import datasets, linear_model\n",
    "from sklearn.model_selection import train_test_split\n",
    "from sklearn.preprocessing import PolynomialFeatures\n",
    "from sklearn.metrics import classification_report, confusion_matrix"
   ]
  },
  {
   "cell_type": "code",
   "execution_count": 3,
   "metadata": {},
   "outputs": [],
   "source": [
    "X_raw, y_raw = datasets.load_breast_cancer(return_X_y=True)"
   ]
  },
  {
   "cell_type": "code",
   "execution_count": 20,
   "metadata": {},
   "outputs": [
    {
     "name": "stdout",
     "output_type": "stream",
     "text": [
      "[0 1]\n",
      "[212 357]\n"
     ]
    }
   ],
   "source": [
    "# Binary classfication problem\n",
    "unique, counts = np.unique(y_raw, return_counts=True)\n",
    "print(unique)\n",
    "print(counts)"
   ]
  },
  {
   "cell_type": "code",
   "execution_count": 6,
   "metadata": {},
   "outputs": [
    {
     "data": {
      "text/plain": [
       "(569, 30)"
      ]
     },
     "execution_count": 6,
     "metadata": {},
     "output_type": "execute_result"
    }
   ],
   "source": [
    "#Look at the features\n",
    "X_raw.shape"
   ]
  },
  {
   "cell_type": "code",
   "execution_count": 22,
   "metadata": {},
   "outputs": [
    {
     "name": "stdout",
     "output_type": "stream",
     "text": [
      "Coefficients: \n",
      " [[ 1.89849124e+00  1.02653329e-01 -1.22204869e-01  1.78610917e-03\n",
      "  -1.16149446e-01 -3.36515752e-01 -5.51215965e-01 -2.84675745e-01\n",
      "  -1.57275916e-01 -1.45856936e-02  5.36086185e-02  1.48554230e+00\n",
      "   1.62872386e-01 -9.84672337e-02 -1.40278382e-02 -3.66545980e-03\n",
      "  -6.54150057e-02 -3.43958841e-02 -2.46130394e-02  3.88904106e-03\n",
      "   1.72868959e+00 -3.62091957e-01 -1.15237094e-01 -2.81886580e-02\n",
      "  -2.15906987e-01 -8.92204835e-01 -1.36642633e+00 -5.27043225e-01\n",
      "  -4.84172120e-01 -8.75609256e-02]]\n",
      "Intrecept: \n",
      " [0.38112498]\n",
      "Model Score for train set: 0.95\n",
      "Model Score for test set: 0.97\n"
     ]
    },
    {
     "data": {
      "image/png": "[encoded data removed]",
      "text/plain": [
       "<Figure size 576x576 with 1 Axes>"
      ]
     },
     "metadata": {
      "needs_background": "light"
     },
     "output_type": "display_data"
    },
    {
     "name": "stdout",
     "output_type": "stream",
     "text": [
      "===============Train data================\n",
      "              precision    recall  f1-score   support\n",
      "\n",
      "           0       0.95      0.92      0.93       164\n",
      "           1       0.96      0.97      0.96       291\n",
      "\n",
      "    accuracy                           0.95       455\n",
      "   macro avg       0.95      0.95      0.95       455\n",
      "weighted avg       0.95      0.95      0.95       455\n",
      "\n",
      "===============Test data================\n",
      "              precision    recall  f1-score   support\n",
      "\n",
      "           0       0.98      0.96      0.97        48\n",
      "           1       0.97      0.98      0.98        66\n",
      "\n",
      "    accuracy                           0.97       114\n",
      "   macro avg       0.97      0.97      0.97       114\n",
      "weighted avg       0.97      0.97      0.97       114\n",
      "\n"
     ]
    }
   ],
   "source": [
    "# Split the data into training/testing sets\n",
    "X_train, X_test, y_train, y_test \\\n",
    "        = train_test_split(X_raw, y_raw, test_size=0.2, random_state=5)\n",
    "\n",
    "# Create linear regression object\n",
    "model = linear_model.LogisticRegression(solver='liblinear', random_state=0)\n",
    "\n",
    "# Train the model using the training sets\n",
    "model.fit(X_train, y_train)\n",
    "\n",
    "# Make predictions using the test and train set\n",
    "y_pred = model.predict(X_test)\n",
    "y_train_pred = model.predict(X_train)\n",
    "\n",
    "# The coefficients\n",
    "print(\"Coefficients: \\n\", model.coef_)\n",
    "#Intrecept\n",
    "print(\"Intrecept: \\n\", model.intercept_)\n",
    "# Accuracy of the Model\n",
    "print(\"Model Score for train set: %.2f\" % model.score(X_train, y_train))\n",
    "print(\"Model Score for test set: %.2f\" % model.score(X_test, y_test))\n",
    "\n",
    "#Confusion Matrix\n",
    "cm_train = confusion_matrix(y_train, model.predict(X_train))\n",
    "cm_test = confusion_matrix(y_test, model.predict(X_test))\n",
    "fig, ax = plt.subplots(figsize=(8, 8))\n",
    "ax.imshow(cm_test)\n",
    "ax.grid(False)\n",
    "ax.xaxis.set(ticks=(0, 1), ticklabels=('Predicted 0s', 'Predicted 1s'))\n",
    "ax.yaxis.set(ticks=(0, 1), ticklabels=('Actual 0s', 'Actual 1s'))\n",
    "ax.set_ylim(1.5, -0.5)\n",
    "for i in range(2):\n",
    "    for j in range(2):\n",
    "        ax.text(j, i, (cm_train[i, j], cm_test[i, j]), ha='center', va='center', color='red')\n",
    "plt.show()\n",
    "\n",
    "# Classification report for train data\n",
    "print(\"===============Train data================\")\n",
    "print(classification_report(y_train, model.predict(X_train)))\n",
    "# Classification report for test data\n",
    "print(\"===============Test data================\")\n",
    "print(classification_report(y_test, model.predict(X_test)))"
   ]
  },
  {
   "cell_type": "code",
   "execution_count": 17,
   "metadata": {},
   "outputs": [],
   "source": [
    "#Non-linear fields\n",
    "X_raw_ = PolynomialFeatures(degree=3, include_bias=False).fit_transform(X_raw)"
   ]
  },
  {
   "cell_type": "code",
   "execution_count": 18,
   "metadata": {},
   "outputs": [
    {
     "name": "stdout",
     "output_type": "stream",
     "text": [
      "Coefficients: \n",
      " [[ 8.31340089e-11  1.50737684e-10  4.91629664e-10 ... -9.67294118e-14\n",
      "  -1.59660091e-14 -2.16868940e-15]]\n",
      "Intrecept: \n",
      " [9.38103669e-12]\n",
      "Model Score for train set: 0.96\n",
      "Model Score for test set: 0.98\n"
     ]
    },
    {
     "data": {
      "image/png": "[encoded data removed]",
      "text/plain": [
       "<Figure size 576x576 with 1 Axes>"
      ]
     },
     "metadata": {
      "needs_background": "light"
     },
     "output_type": "display_data"
    },
    {
     "name": "stdout",
     "output_type": "stream",
     "text": [
      "===============Train data================\n",
      "              precision    recall  f1-score   support\n",
      "\n",
      "           0       0.96      0.95      0.95       164\n",
      "           1       0.97      0.98      0.97       291\n",
      "\n",
      "    accuracy                           0.96       455\n",
      "   macro avg       0.96      0.96      0.96       455\n",
      "weighted avg       0.96      0.96      0.96       455\n",
      "\n",
      "===============Test data================\n",
      "              precision    recall  f1-score   support\n",
      "\n",
      "           0       1.00      0.96      0.98        48\n",
      "           1       0.97      1.00      0.99        66\n",
      "\n",
      "    accuracy                           0.98       114\n",
      "   macro avg       0.99      0.98      0.98       114\n",
      "weighted avg       0.98      0.98      0.98       114\n",
      "\n"
     ]
    }
   ],
   "source": [
    "# Split the data into training/testing sets\n",
    "X_train, X_test, y_train, y_test \\\n",
    "        = train_test_split(X_raw_, y_raw, test_size=0.2, random_state=5)\n",
    "\n",
    "# Create linear regression object\n",
    "model = linear_model.LogisticRegression(solver='liblinear', random_state=0)\n",
    "\n",
    "# Train the model using the training sets\n",
    "model.fit(X_train, y_train)\n",
    "\n",
    "# Make predictions using the test and train set\n",
    "y_pred = model.predict(X_test)\n",
    "y_train_pred = model.predict(X_train)\n",
    "\n",
    "# The coefficients\n",
    "print(\"Coefficients: \\n\", model.coef_)\n",
    "#Intrecept\n",
    "print(\"Intrecept: \\n\", model.intercept_)\n",
    "# Accuracy of the Model\n",
    "print(\"Model Score for train set: %.2f\" % model.score(X_train, y_train))\n",
    "print(\"Model Score for test set: %.2f\" % model.score(X_test, y_test))\n",
    "\n",
    "#Confusion Matrix\n",
    "cm_train = confusion_matrix(y_train, model.predict(X_train))\n",
    "cm_test = confusion_matrix(y_test, model.predict(X_test))\n",
    "fig, ax = plt.subplots(figsize=(8, 8))\n",
    "ax.imshow(cm_test)\n",
    "ax.grid(False)\n",
    "ax.xaxis.set(ticks=(0, 1), ticklabels=('Predicted 0s', 'Predicted 1s'))\n",
    "ax.yaxis.set(ticks=(0, 1), ticklabels=('Actual 0s', 'Actual 1s'))\n",
    "ax.set_ylim(1.5, -0.5)\n",
    "for i in range(2):\n",
    "    for j in range(2):\n",
    "        ax.text(j, i, (cm_train[i, j], cm_test[i, j]), ha='center', va='center', color='red')\n",
    "plt.show()\n",
    "\n",
    "# Classification report for train data\n",
    "print(\"===============Train data================\")\n",
    "print(classification_report(y_train, model.predict(X_train)))\n",
    "# Classification report for test data\n",
    "print(\"===============Test data================\")\n",
    "print(classification_report(y_test, model.predict(X_test)))"
   ]
  },
  {
   "cell_type": "code",
   "execution_count": null,
   "metadata": {},
   "outputs": [],
   "source": []
  }
 ],
 "metadata": {
  "kernelspec": {
   "display_name": "Python 3",
   "language": "python",
   "name": "python3"
  },
  "language_info": {
   "codemirror_mode": {
    "name": "ipython",
    "version": 3
   },
   "file_extension": ".py",
   "mimetype": "text/x-python",
   "name": "python",
   "nbconvert_exporter": "python",
   "pygments_lexer": "ipython3",
   "version": "3.7.4"
  }
 },
 "nbformat": 4,
 "nbformat_minor": 2
}
