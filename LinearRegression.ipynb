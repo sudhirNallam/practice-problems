{
 "cells": [
  {
   "cell_type": "code",
   "execution_count": 36,
   "metadata": {},
   "outputs": [],
   "source": [
    "import matplotlib.pyplot as plt\n",
    "import numpy as np\n",
    "from sklearn import datasets, linear_model\n",
    "from sklearn.metrics import mean_squared_error, r2_score\n",
    "from sklearn.model_selection import train_test_split\n",
    "from sklearn.preprocessing import PolynomialFeatures"
   ]
  },
  {
   "cell_type": "code",
   "execution_count": 25,
   "metadata": {},
   "outputs": [],
   "source": [
    "# Load the diabetes dataset\n",
    "diabetes_X, diabetes_y = datasets.load_diabetes(return_X_y=True)"
   ]
  },
  {
   "cell_type": "code",
   "execution_count": 26,
   "metadata": {},
   "outputs": [
    {
     "data": {
      "text/plain": [
       "(442, 10)"
      ]
     },
     "execution_count": 26,
     "metadata": {},
     "output_type": "execute_result"
    }
   ],
   "source": [
    "diabetes_X.shape"
   ]
  },
  {
   "cell_type": "code",
   "execution_count": 27,
   "metadata": {},
   "outputs": [],
   "source": [
    "# Split the data into training/testing sets\n",
    "diabetes_X_train, diabetes_X_test, diabetes_y_train, diabetes_y_test \\\n",
    "        = train_test_split(diabetes_X, diabetes_y, test_size=0.2, random_state=5)"
   ]
  },
  {
   "cell_type": "code",
   "execution_count": 28,
   "metadata": {},
   "outputs": [],
   "source": [
    "# Create linear regression object\n",
    "regr = linear_model.LinearRegression()"
   ]
  },
  {
   "cell_type": "code",
   "execution_count": 29,
   "metadata": {},
   "outputs": [
    {
     "data": {
      "text/plain": [
       "LinearRegression(copy_X=True, fit_intercept=True, n_jobs=None, normalize=False)"
      ]
     },
     "execution_count": 29,
     "metadata": {},
     "output_type": "execute_result"
    }
   ],
   "source": [
    "# Train the model using the training sets\n",
    "regr.fit(diabetes_X_train, diabetes_y_train)"
   ]
  },
  {
   "cell_type": "code",
   "execution_count": 41,
   "metadata": {},
   "outputs": [],
   "source": [
    "# Make predictions using the test and train set\n",
    "diabetes_y_pred = regr.predict(diabetes_X_test)\n",
    "diabetes_y_train_pred = regr.predict(diabetes_X_train)"
   ]
  },
  {
   "cell_type": "code",
   "execution_count": 35,
   "metadata": {},
   "outputs": [
    {
     "name": "stdout",
     "output_type": "stream",
     "text": [
      "Coefficients: \n",
      " [   2.72195846 -255.94592688  522.83461574  353.10273364 -827.58494078\n",
      "  543.32591808  115.93459912  214.68877404  694.94194778   32.73088487]\n",
      "Intrecept: \n",
      " 152.22183644503602\n",
      "Mean squared error for train set: 2845.00\n",
      "Mean squared error for test set: 2981.59\n",
      "Coefficient of determination: 0.53\n"
     ]
    }
   ],
   "source": [
    "# The coefficients\n",
    "print(\"Coefficients: \\n\", regr.coef_)\n",
    "#Intrecept\n",
    "print(\"Intrecept: \\n\", regr.intercept_)\n",
    "# The mean squared error\n",
    "print(\"Mean squared error for train set: %.2f\" % mean_squared_error(diabetes_y_train, diabetes_y_train_pred))\n",
    "print(\"Mean squared error for test set: %.2f\" % mean_squared_error(diabetes_y_test, diabetes_y_pred))\n",
    "# The coefficient of determination: 1 is perfect prediction\n",
    "print(\"Coefficient of determination: %.2f\" % r2_score(diabetes_y_test, diabetes_y_pred))"
   ]
  },
  {
   "cell_type": "code",
   "execution_count": 37,
   "metadata": {},
   "outputs": [],
   "source": [
    "#Non-linear fields\n",
    "diabetes_X_ = PolynomialFeatures(degree=2, include_bias=False).fit_transform(diabetes_X)"
   ]
  },
  {
   "cell_type": "code",
   "execution_count": 45,
   "metadata": {},
   "outputs": [
    {
     "data": {
      "text/plain": [
       "(442, 65)"
      ]
     },
     "execution_count": 45,
     "metadata": {},
     "output_type": "execute_result"
    }
   ],
   "source": [
    "diabetes_X_"
   ]
  },
  {
   "cell_type": "code",
   "execution_count": 39,
   "metadata": {},
   "outputs": [],
   "source": [
    "# Split the data into training/testing sets\n",
    "diabetes_X_train, diabetes_X_test, diabetes_y_train, diabetes_y_test \\\n",
    "        = train_test_split(diabetes_X_, diabetes_y, test_size=0.2, random_state=5)"
   ]
  },
  {
   "cell_type": "code",
   "execution_count": 40,
   "metadata": {},
   "outputs": [
    {
     "data": {
      "text/plain": [
       "LinearRegression(copy_X=True, fit_intercept=True, n_jobs=None, normalize=False)"
      ]
     },
     "execution_count": 40,
     "metadata": {},
     "output_type": "execute_result"
    }
   ],
   "source": [
    "# Train the model using the training sets\n",
    "regr.fit(diabetes_X_train, diabetes_y_train)"
   ]
  },
  {
   "cell_type": "code",
   "execution_count": 46,
   "metadata": {},
   "outputs": [],
   "source": [
    "# Make predictions using the test and train set\n",
    "diabetes_y_pred = regr.predict(diabetes_X_test)\n",
    "diabetes_y_train_pred = regr.predict(diabetes_X_train)"
   ]
  },
  {
   "cell_type": "code",
   "execution_count": 49,
   "metadata": {},
   "outputs": [
    {
     "name": "stdout",
     "output_type": "stream",
     "text": [
      "Coefficients: \n",
      " [ 9.10505214e+01 -3.06205123e+02  4.67467078e+02  3.61582517e+02\n",
      " -5.84529582e+04  5.14043898e+04  2.14657451e+04 -1.40195088e+02\n",
      "  1.98245032e+04  1.91613198e+01  1.23203317e+03  2.20866661e+03\n",
      " -8.70149982e+02  1.40586771e+03  1.28364692e+03 -7.01696393e+03\n",
      "  5.24984110e+03  7.80356381e+03  8.91916834e+02  1.23933345e+03\n",
      " -1.84901429e+00  8.28798375e+02  1.78140473e+03  4.24712314e+03\n",
      " -3.19149460e+03 -2.79840398e+03 -5.62702982e+03 -3.71764404e+01\n",
      "  1.84343895e+03  2.40735669e+02  4.49244847e+03 -5.58907360e+03\n",
      "  4.89526278e+03  8.69628355e+02 -6.74079993e+02  1.50242757e+03\n",
      "  1.45862960e+03 -6.13022041e+02  1.69684979e+04 -1.23256448e+04\n",
      " -5.07018127e+03 -5.55266896e+02 -6.34906034e+03 -3.59928324e+03\n",
      "  2.29649995e+04 -2.43678707e+04 -1.19409302e+04 -1.80433446e+04\n",
      "  1.65129489e+05 -3.85734734e+03  6.93446815e+03 -5.86376496e+02\n",
      "  4.11726562e+03 -1.48232008e+05  2.59165327e+03  4.10474556e+03\n",
      "  1.63750493e+04 -6.57527634e+04  5.67955240e+03  1.27796764e+04\n",
      " -7.56058925e+02  2.66069102e+03  4.44935022e+04  2.78449118e+03\n",
      "  1.50958588e+03]\n",
      "Intrecept: \n",
      " -115.37328618021675\n",
      "Mean squared error for train set: 2319.21\n",
      "Mean squared error for test set: 3349.75\n",
      "Coefficient of determination: 0.47\n"
     ]
    }
   ],
   "source": [
    "# The coefficients\n",
    "print(\"Coefficients: \\n\", regr.coef_)\n",
    "#Intrecept\n",
    "print(\"Intrecept: \\n\", regr.intercept_)\n",
    "# The mean squared error\n",
    "print(\"Mean squared error for train set: %.2f\" % mean_squared_error(diabetes_y_train, diabetes_y_train_pred))\n",
    "print(\"Mean squared error for test set: %.2f\" % mean_squared_error(diabetes_y_test, diabetes_y_pred))\n",
    "# The coefficient of determination: 1 is perfect prediction\n",
    "print(\"Coefficient of determination: %.2f\" % r2_score(diabetes_y_test, diabetes_y_pred))"
   ]
  },
  {
   "cell_type": "code",
   "execution_count": null,
   "metadata": {},
   "outputs": [],
   "source": []
  }
 ],
 "metadata": {
  "kernelspec": {
   "display_name": "Python 3",
   "language": "python",
   "name": "python3"
  },
  "language_info": {
   "codemirror_mode": {
    "name": "ipython",
    "version": 3
   },
   "file_extension": ".py",
   "mimetype": "text/x-python",
   "name": "python",
   "nbconvert_exporter": "python",
   "pygments_lexer": "ipython3",
   "version": "3.7.4"
  }
 },
 "nbformat": 4,
 "nbformat_minor": 2
}
